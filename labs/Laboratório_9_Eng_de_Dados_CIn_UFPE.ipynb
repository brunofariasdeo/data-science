{
  "nbformat": 4,
  "nbformat_minor": 0,
  "metadata": {
    "colab": {
      "name": "Laboratório - 9 - Eng de Dados - CIn-UFPE",
      "provenance": [],
      "include_colab_link": true
    },
    "kernelspec": {
      "name": "python3",
      "display_name": "Python 3"
    },
    "language_info": {
      "name": "python"
    }
  },
  "cells": [
    {
      "cell_type": "markdown",
      "metadata": {
        "id": "view-in-github",
        "colab_type": "text"
      },
      "source": [
        "<a href=\"https://colab.research.google.com/github/brunofariasdeo/data-science/blob/main/labs/Laborat%C3%B3rio_9_Eng_de_Dados_CIn_UFPE.ipynb\" target=\"_parent\"><img src=\"https://colab.research.google.com/assets/colab-badge.svg\" alt=\"Open In Colab\"/></a>"
      ]
    },
    {
      "cell_type": "markdown",
      "metadata": {
        "id": "tXaXWavE0wbL"
      },
      "source": [
        "#### Assunto do Laboratório 9:\n",
        "- Uso de vetores e matrizes da biblioteca NUMPY."
      ]
    },
    {
      "cell_type": "markdown",
      "metadata": {
        "id": "YzYMWhKC0yh0"
      },
      "source": [
        "### Questão 1:\n",
        "\n",
        "Construa um programa que preenche um vetor de inteiros de 100 números, colocando 0 nas posições pares e 1 nas ímpares.\n"
      ]
    },
    {
      "cell_type": "code",
      "metadata": {
        "id": "RERdAgNd0vsU",
        "colab": {
          "base_uri": "https://localhost:8080/"
        },
        "outputId": "936a2867-6927-413b-c0dc-5cce51056a5d"
      },
      "source": [
        "import numpy as np\n",
        "\n",
        "def oddAndEven():\n",
        "  a = np.full((10,10),2)\n",
        "\n",
        "  a[::2,:] = 0\n",
        "  a[1::2,:] = 1\n",
        "  a[:,::2] = 0\n",
        "  a[:,1::2] = 1\n",
        "\n",
        "  return a\n",
        "\n",
        "print(oddAndEven())\n"
      ],
      "execution_count": 3,
      "outputs": [
        {
          "output_type": "stream",
          "name": "stdout",
          "text": [
            "[[0 1 0 1 0 1 0 1 0 1]\n",
            " [0 1 0 1 0 1 0 1 0 1]\n",
            " [0 1 0 1 0 1 0 1 0 1]\n",
            " [0 1 0 1 0 1 0 1 0 1]\n",
            " [0 1 0 1 0 1 0 1 0 1]\n",
            " [0 1 0 1 0 1 0 1 0 1]\n",
            " [0 1 0 1 0 1 0 1 0 1]\n",
            " [0 1 0 1 0 1 0 1 0 1]\n",
            " [0 1 0 1 0 1 0 1 0 1]\n",
            " [0 1 0 1 0 1 0 1 0 1]]\n"
          ]
        }
      ]
    },
    {
      "cell_type": "markdown",
      "metadata": {
        "id": "FwJsKotI06EJ"
      },
      "source": [
        "### Questão 2:\n",
        "\n",
        "Construa um programa que lê, soma e imprime o resultado da soma de um vetor de inteiros de 10 posições.\n"
      ]
    },
    {
      "cell_type": "code",
      "metadata": {
        "id": "5jo5Wx7109aG",
        "colab": {
          "base_uri": "https://localhost:8080/"
        },
        "outputId": "4e97d9db-4ed0-4bfb-e789-10341d7c71bc"
      },
      "source": [
        "def sumArray(array):\n",
        "  return array.sum()\n",
        "\n",
        "print(sumArray(np.full((2,5),5)))"
      ],
      "execution_count": null,
      "outputs": [
        {
          "output_type": "stream",
          "name": "stdout",
          "text": [
            "50\n"
          ]
        }
      ]
    },
    {
      "cell_type": "markdown",
      "metadata": {
        "id": "XhaW_BzU0_Bb"
      },
      "source": [
        "### Questão 3:\n",
        "\n",
        "Construa um programa que multiplique os valores de um vetor de reais de 20 posições pelos valores de um outro vetor de reais de 20 posições. O primeiro vetor deve ser inicializado com valores crescentes a partir de 1 e o segundo vetor com valores decrescentes a partir de 20. Os resultados das multiplicações devem ser armazenados num terceiro vetor.\n"
      ]
    },
    {
      "cell_type": "code",
      "metadata": {
        "id": "Z1XZle0w1COP",
        "colab": {
          "base_uri": "https://localhost:8080/"
        },
        "outputId": "978d1a2a-a7db-4a66-8c4e-590272fd01d0"
      },
      "source": [
        "def multiplyArrays(ascendingArray, descendingArray):\n",
        "  return ascending*descending\n",
        "\n",
        "ascending = np.arange(20).reshape(4, 5)\n",
        "ascending += 1\n",
        "\n",
        "descending = np.arange(20).reshape(4, 5)\n",
        "descending += 1\n",
        "descending = np.flip(descending)\n",
        "\n",
        "print(multiplyArrays(ascending, descending))"
      ],
      "execution_count": null,
      "outputs": [
        {
          "output_type": "stream",
          "name": "stdout",
          "text": [
            "[[ 20  38  54  68  80]\n",
            " [ 90  98 104 108 110]\n",
            " [110 108 104  98  90]\n",
            " [ 80  68  54  38  20]]\n"
          ]
        }
      ]
    },
    {
      "cell_type": "markdown",
      "metadata": {
        "id": "Fbe5FYjW1D9g"
      },
      "source": [
        "### Questão 4:\n",
        "\n",
        "Leia um vetor de 16 posições e troque os 8 primeiros valores pelos 8 últimos e vice-versa. Escreva ao final o vetor obtido.\n"
      ]
    },
    {
      "cell_type": "code",
      "metadata": {
        "id": "oUKcB_Dg1HB0",
        "colab": {
          "base_uri": "https://localhost:8080/"
        },
        "outputId": "dc15be9e-548c-40cb-a7bf-32ec2e398a21"
      },
      "source": [
        "def switchArray(array):\n",
        "  firstEightValues = sixteen[0:2, :]\n",
        "  lastEightValues = sixteen[2:4, :]\n",
        "\n",
        "  return np.concatenate((lastEightValues, firstEightValues), axis=0)\n",
        "\n",
        "print(switchArray(np.arange(16).reshape(4, 4)))"
      ],
      "execution_count": null,
      "outputs": [
        {
          "output_type": "stream",
          "name": "stdout",
          "text": [
            "[[ 8  9 10 11]\n",
            " [12 13 14 15]\n",
            " [ 0  1  2  3]\n",
            " [ 4  5  6  7]]\n"
          ]
        }
      ]
    },
    {
      "cell_type": "markdown",
      "metadata": {
        "id": "f1f9SQWE1IF5"
      },
      "source": [
        "### Questão 5\n",
        "\n",
        "Refaça as questões anteriores criando uma função para cada uma delas."
      ]
    },
    {
      "cell_type": "code",
      "metadata": {
        "id": "EaB2tbWT1Mlr"
      },
      "source": [
        "##codigo vai aqui\n"
      ],
      "execution_count": null,
      "outputs": []
    },
    {
      "cell_type": "markdown",
      "metadata": {
        "id": "te8fv3b81R-W"
      },
      "source": [
        "### Questão 6:\n",
        "\n",
        "Construa um algoritmo que efetue e apresente o resultado da soma entre duas matrizes 3 x 5. Inicialize a matriz com valores quaisquer e imprima o resultado na tela.\n"
      ]
    },
    {
      "cell_type": "code",
      "metadata": {
        "id": "0jM3Vn7z1NxC",
        "colab": {
          "base_uri": "https://localhost:8080/"
        },
        "outputId": "ccd6e0b1-b0bf-498b-8c07-db5e781e157b"
      },
      "source": [
        "def sumMatrices(firstArray, secondArray):\n",
        "  return firstArray + secondArray\n",
        "\n",
        "a = np.full((3,5),2)\n",
        "b = np.full((3,5),3)\n",
        "\n",
        "print(sumMatrices(a,b))\n"
      ],
      "execution_count": null,
      "outputs": [
        {
          "output_type": "stream",
          "name": "stdout",
          "text": [
            "[[5 5 5 5 5]\n",
            " [5 5 5 5 5]\n",
            " [5 5 5 5 5]]\n"
          ]
        }
      ]
    },
    {
      "cell_type": "markdown",
      "metadata": {
        "id": "bISoZPfB1V6E"
      },
      "source": [
        "### Questão 7:\n",
        "Faça um programa que multiplica uma matriz 3 x 3 de inteiros por um escalar k e imprima o resultado na tela. O usuário deve fornecer os valores da matriz e de k.\n"
      ]
    },
    {
      "cell_type": "code",
      "metadata": {
        "id": "sCYqV3Vu1Ylm",
        "colab": {
          "base_uri": "https://localhost:8080/"
        },
        "outputId": "51348e05-24e6-47ab-b244-dcc39ee224b6"
      },
      "source": [
        "def multiplyArrayByConstant(k, array):\n",
        "  return k * array\n",
        "\n",
        "c = np.full((3,3),2)\n",
        "k = 5\n",
        "\n",
        "print(multiplyArrayByConstant(k,c))"
      ],
      "execution_count": null,
      "outputs": [
        {
          "output_type": "stream",
          "name": "stdout",
          "text": [
            "[[10 10 10]\n",
            " [10 10 10]\n",
            " [10 10 10]]\n"
          ]
        }
      ]
    },
    {
      "cell_type": "markdown",
      "metadata": {
        "id": "OzIzJ84M1Zws"
      },
      "source": [
        "### Questão 8:\n",
        "Leia uma matriz 20 x 20. Leia também um valor X. O programa deverá fazer uma busca desse valor na matriz e, ao final escrever a localização (linha e coluna) ou uma mensagem de “não encontrado”.\n"
      ]
    },
    {
      "cell_type": "code",
      "metadata": {
        "id": "0thIFpbb1c5D",
        "colab": {
          "base_uri": "https://localhost:8080/"
        },
        "outputId": "7ae35c7d-9567-42e6-aa20-95b398d64e24"
      },
      "source": [
        "def findValueInArray(x, array):\n",
        "  if x in c:\n",
        "    result = np.where(c==x)\n",
        "    return result\n",
        "  else:\n",
        "    return('Not found')\n",
        "\n",
        "x = 1\n",
        "\n",
        "c = np.reshape(np.arange(0,400),(20,20))\n",
        "\n",
        "print(findValueInArray(x,c))"
      ],
      "execution_count": null,
      "outputs": [
        {
          "output_type": "stream",
          "name": "stdout",
          "text": [
            "(array([0]), array([1]))\n"
          ]
        }
      ]
    },
    {
      "cell_type": "markdown",
      "metadata": {
        "id": "68o_kwr-1eGd"
      },
      "source": [
        "### Questão 9:\n",
        "\n",
        "Dada uma matriz 5x5, elabore um algoritmo que imprima:\n",
        "\n",
        "- A diagonal principal\n",
        "\n",
        "- A diagonal secundária\n",
        "\n",
        "- A soma da linha 4\n",
        "- A soma da coluna 2\n",
        "\n",
        "- Tudo, exceto a diagonal principal\n"
      ]
    },
    {
      "cell_type": "code",
      "metadata": {
        "id": "MIlE9sfB1jNL",
        "colab": {
          "base_uri": "https://localhost:8080/"
        },
        "outputId": "d83a0ecc-72ac-48d9-dcaf-f564a6365360"
      },
      "source": [
        "print('\\n Array \\n')\n",
        "d = np.reshape(np.arange(0,25),(5,5))\n",
        "print(d)\n",
        "\n",
        "print('\\n Diagonal Principal \\n')\n",
        "np.diag(d, 0)\n",
        "\n",
        "dFlipped = np.fliplr(d)\n",
        "print(dFlipped)\n",
        "\n",
        "print('\\n Diagonal Secundária \\n')\n",
        "print(np.diag(dFlipped,0))\n",
        "\n",
        "print('\\n Soma da linha 4 \\n')\n",
        "print(d[4,:].sum())\n",
        "\n",
        "print('\\n Soma da coluna 2 \\n')\n",
        "print(d[:,2].sum())\n",
        "\n",
        "print('\\n Somar tudo menos a diagonal principal \\n')\n",
        "print(d[:,:].sum() - np.diag(d,0).sum())"
      ],
      "execution_count": null,
      "outputs": [
        {
          "output_type": "stream",
          "name": "stdout",
          "text": [
            "\n",
            " Array \n",
            "\n",
            "[[ 0  1  2  3  4]\n",
            " [ 5  6  7  8  9]\n",
            " [10 11 12 13 14]\n",
            " [15 16 17 18 19]\n",
            " [20 21 22 23 24]]\n",
            "\n",
            " Diagonal Principal \n",
            "\n",
            "[[ 4  3  2  1  0]\n",
            " [ 9  8  7  6  5]\n",
            " [14 13 12 11 10]\n",
            " [19 18 17 16 15]\n",
            " [24 23 22 21 20]]\n",
            "\n",
            " Diagonal Secundária \n",
            "\n",
            "[ 4  8 12 16 20]\n",
            "\n",
            " Soma da linha 4 \n",
            "\n",
            "110\n",
            "\n",
            " Soma da coluna 2 \n",
            "\n",
            "60\n",
            "\n",
            " Somar tudo menos a diagonal principal \n",
            "\n",
            "240\n"
          ]
        }
      ]
    },
    {
      "cell_type": "markdown",
      "metadata": {
        "id": "ODjF9wgX1qOi"
      },
      "source": [
        "### Questão 10:\n",
        "\n",
        "Faça um programa para multiplicar duas matrizes com tamanho até 10x10, armazenando o resultado em uma terceira matriz. \n",
        "\n",
        "- O programa deve solicitar ao usuário as duas dimensões das duas matrizes;\n",
        "\n",
        "- O programa deve verificar se as matrizes podem ser multiplicadas e apresentar uma mensagem de erro, caso não seja possível.\n"
      ]
    },
    {
      "cell_type": "code",
      "metadata": {
        "id": "_DPrLvAg1suk",
        "colab": {
          "base_uri": "https://localhost:8080/"
        },
        "outputId": "6df0bd2a-94fe-4881-c42e-7871cd53db42"
      },
      "source": [
        "def multiplyArraysWithMaximumSize(firstMatrix, secondMatrix):\n",
        "  firstMatrixRows = int(input('First matrix number of rows: '))\n",
        "  firstMatrixColumns = int(input('First matrix number of columns: '))\n",
        "\n",
        "  secondMatrixRows = int(input('Second matrix number of rows: '))\n",
        "  secondMatrixColumns = int(input('Second matrix number of columns: '))\n",
        "\n",
        "  if(firstMatrixColumns != secondMatrixRows | (firstMatrixRows | firstMatrixColumns | secondMatrixRows | secondMatrixColumns > 10)):\n",
        "    return 'This operation is not possible'\n",
        "  else:\n",
        "    return np.mat(firstMatrix) * np.mat(secondMatrix)\n",
        "\n",
        "dale = np.full((2,5),5)\n",
        "beleza = np.full((5,2),6)\n",
        "\n",
        "print(multiplyArraysWithMaximumSize(dale,beleza))"
      ],
      "execution_count": 4,
      "outputs": [
        {
          "output_type": "stream",
          "name": "stdout",
          "text": [
            "First matrix number of rows: 2\n",
            "First matrix number of columns: 5\n",
            "Second matrix number of rows: 5\n",
            "Second matrix number of columns: 2\n",
            "[[150 150]\n",
            " [150 150]]\n"
          ]
        }
      ]
    },
    {
      "cell_type": "markdown",
      "metadata": {
        "id": "WWW7T-bV1uIb"
      },
      "source": [
        "### Questão 11:\n",
        "Refaça o programa anterior transformando apenas o código que faz a multiplicação das matrizes em uma função. \n",
        "- A função recebe como parâmetro as três matrizes e as dimensões das duas primeiras matrizes.  O resultado da multiplicação das duas primeiras matrizes deve ser armazenado na terceira matriz.;\n",
        "\n",
        "- A função deve retornar falso se não for possível multiplicar as matrizes, e verdadeiro caso contrário.\n",
        "\n",
        "- A função não deve ler as matrizes, imprimir o resultado, nem a mensagem de erro. Isto deve ser feito na função principal.\n"
      ]
    },
    {
      "cell_type": "code",
      "metadata": {
        "id": "wLZVZh_-12Xf"
      },
      "source": [
        "## o codigo vai aqui"
      ],
      "execution_count": null,
      "outputs": []
    }
  ]
}