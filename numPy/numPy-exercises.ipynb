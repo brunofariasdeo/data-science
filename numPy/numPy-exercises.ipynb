{
 "cells": [
  {
   "cell_type": "markdown",
   "id": "72083aff-b231-4365-84e7-532c08fd1402",
   "metadata": {
    "jp-MarkdownHeadingCollapsed": true,
    "tags": []
   },
   "source": [
    "#### Construa um algoritmo que efetue e apresente o resultado da soma entre duas matrizes 3 x 5. Inicialize a matriz com valores quaisquer e imprima o resultado na tela."
   ]
  },
  {
   "cell_type": "code",
   "execution_count": 2,
   "id": "6b91fc3f-092c-4511-9e50-6fd3ea883a17",
   "metadata": {},
   "outputs": [],
   "source": [
    "import numpy as np"
   ]
  },
  {
   "cell_type": "code",
   "execution_count": 7,
   "id": "0234e792-606d-4c52-b5b2-e2138289d368",
   "metadata": {},
   "outputs": [
    {
     "name": "stdout",
     "output_type": "stream",
     "text": [
      "[[2 2 2 2 2]\n",
      " [2 2 2 2 2]\n",
      " [2 2 2 2 2]]\n"
     ]
    }
   ],
   "source": [
    "a = np.full((3,5),2)\n",
    "print(a)"
   ]
  },
  {
   "cell_type": "code",
   "execution_count": 8,
   "id": "05e79a66-4c14-4e9f-8a97-cebe56a13538",
   "metadata": {},
   "outputs": [
    {
     "name": "stdout",
     "output_type": "stream",
     "text": [
      "[[3 3 3 3 3]\n",
      " [3 3 3 3 3]\n",
      " [3 3 3 3 3]]\n"
     ]
    }
   ],
   "source": [
    "b = np.full((3,5),3)\n",
    "print(b)"
   ]
  },
  {
   "cell_type": "code",
   "execution_count": 9,
   "id": "c5ac8c1c-8c07-4ca5-97ac-6901a7b14349",
   "metadata": {},
   "outputs": [
    {
     "data": {
      "text/plain": [
       "array([[5, 5, 5, 5, 5],\n",
       "       [5, 5, 5, 5, 5],\n",
       "       [5, 5, 5, 5, 5]])"
      ]
     },
     "execution_count": 9,
     "metadata": {},
     "output_type": "execute_result"
    }
   ],
   "source": [
    "a + b"
   ]
  },
  {
   "cell_type": "markdown",
   "id": "1c3fd21d-c60e-4012-a4e8-75a76c1b2f5e",
   "metadata": {
    "jp-MarkdownHeadingCollapsed": true,
    "tags": []
   },
   "source": [
    "#### Faça um programa que multiplica uma matriz 3 x 3 de inteiros por um escalar k e imprima o resultado na tela. O usuário deve fornecer os valores da matriz e de k."
   ]
  },
  {
   "cell_type": "code",
   "execution_count": 14,
   "id": "5152c4cf-9e75-41b5-8aed-21024df5a1d3",
   "metadata": {},
   "outputs": [
    {
     "name": "stdin",
     "output_type": "stream",
     "text": [
      " 3\n"
     ]
    }
   ],
   "source": [
    "k = int(input())"
   ]
  },
  {
   "cell_type": "code",
   "execution_count": 17,
   "id": "32401299-5013-4ee1-93e0-570746c788af",
   "metadata": {},
   "outputs": [
    {
     "name": "stdout",
     "output_type": "stream",
     "text": [
      "[[5 5 5]\n",
      " [5 5 5]\n",
      " [5 5 5]]\n"
     ]
    }
   ],
   "source": [
    "b = np.full((3,3),5)\n",
    "print(b)"
   ]
  },
  {
   "cell_type": "code",
   "execution_count": 18,
   "id": "74fa8e37-6dec-495b-818e-d804fadb6615",
   "metadata": {},
   "outputs": [
    {
     "data": {
      "text/plain": [
       "array([[15, 15, 15],\n",
       "       [15, 15, 15],\n",
       "       [15, 15, 15]])"
      ]
     },
     "execution_count": 18,
     "metadata": {},
     "output_type": "execute_result"
    }
   ],
   "source": [
    "k * b"
   ]
  },
  {
   "cell_type": "markdown",
   "id": "ab1639f8-e713-48fb-8ffd-b2f991404041",
   "metadata": {
    "jp-MarkdownHeadingCollapsed": true,
    "tags": []
   },
   "source": [
    "#### Leia uma matriz 20x20. Leia também um valor X. O programa deverá fazer uma busca desse valor na matriz e, ao ﬁnal escrever a localização (linha e coluna) ou uma mensagem de “não encontrado”."
   ]
  },
  {
   "cell_type": "code",
   "execution_count": 47,
   "id": "4ee7b3df-05da-46ae-baaf-bf892b699556",
   "metadata": {},
   "outputs": [
    {
     "name": "stdout",
     "output_type": "stream",
     "text": [
      "(array([0]), array([1]))\n"
     ]
    }
   ],
   "source": [
    "x = 1\n",
    "\n",
    "c = np.reshape(np.arange(0,400),(20,20))\n",
    "\n",
    "if x in c:\n",
    "    result = np.where(c==x)\n",
    "    print(result)\n",
    "else:\n",
    "    print('Not found')"
   ]
  },
  {
   "cell_type": "code",
   "execution_count": 48,
   "id": "949336f1-2b2a-49ec-824a-a80a56168e1b",
   "metadata": {},
   "outputs": [
    {
     "name": "stdout",
     "output_type": "stream",
     "text": [
      "Not found\n"
     ]
    }
   ],
   "source": [
    "x = -1\n",
    "\n",
    "c = np.reshape(np.arange(0,400),(20,20))\n",
    "\n",
    "if x in c:\n",
    "    result = np.where(c==x)\n",
    "    print(result)\n",
    "else:\n",
    "    print('Not found')"
   ]
  },
  {
   "cell_type": "markdown",
   "id": "7dde9319-96de-4b30-8c34-0ab9f9ae96f6",
   "metadata": {
    "jp-MarkdownHeadingCollapsed": true,
    "tags": []
   },
   "source": [
    "#### Dada uma matriz 5x5, elabore um algoritmo que imprima:\n",
    "○ A diagonal principal\n",
    "○ A diagonal secundária\n",
    "○ A soma da linha 4\n",
    "○ A soma da coluna 2\n",
    "○ Tudo, exceto a diagonal principal"
   ]
  },
  {
   "cell_type": "code",
   "execution_count": 56,
   "id": "07bdf0ef-f536-40b0-b6f2-9152defe9070",
   "metadata": {},
   "outputs": [
    {
     "name": "stdout",
     "output_type": "stream",
     "text": [
      "[[ 0  1  2  3  4]\n",
      " [ 5  6  7  8  9]\n",
      " [10 11 12 13 14]\n",
      " [15 16 17 18 19]\n",
      " [20 21 22 23 24]]\n"
     ]
    }
   ],
   "source": [
    "d = np.reshape(np.arange(0,25),(5,5))\n",
    "print(d)"
   ]
  },
  {
   "cell_type": "code",
   "execution_count": 57,
   "id": "a24d60b2-a75d-441d-8309-90279ee11646",
   "metadata": {},
   "outputs": [
    {
     "name": "stdout",
     "output_type": "stream",
     "text": [
      "Diagonal Principal\n"
     ]
    },
    {
     "data": {
      "text/plain": [
       "array([ 0,  6, 12, 18, 24])"
      ]
     },
     "execution_count": 57,
     "metadata": {},
     "output_type": "execute_result"
    }
   ],
   "source": [
    "print('Diagonal Principal')\n",
    "np.diag(d, 0)"
   ]
  },
  {
   "cell_type": "code",
   "execution_count": 65,
   "id": "853cbdb8-9c70-454f-acec-2704be188be9",
   "metadata": {},
   "outputs": [
    {
     "name": "stdout",
     "output_type": "stream",
     "text": [
      "[[ 4  3  2  1  0]\n",
      " [ 9  8  7  6  5]\n",
      " [14 13 12 11 10]\n",
      " [19 18 17 16 15]\n",
      " [24 23 22 21 20]]\n",
      "Diagonal Secundária\n",
      "[ 4  8 12 16 20]\n"
     ]
    }
   ],
   "source": [
    "dFlipped = np.fliplr(d)\n",
    "print(dFlipped)\n",
    "\n",
    "print('Diagonal Secundária')\n",
    "print(np.diag(dFlipped,0))"
   ]
  },
  {
   "cell_type": "code",
   "execution_count": 70,
   "id": "ec6f8eb5-9491-4913-b91f-b57a675c695d",
   "metadata": {},
   "outputs": [
    {
     "name": "stdout",
     "output_type": "stream",
     "text": [
      "Soma da linha 4\n"
     ]
    },
    {
     "data": {
      "text/plain": [
       "110"
      ]
     },
     "execution_count": 70,
     "metadata": {},
     "output_type": "execute_result"
    }
   ],
   "source": [
    "print('Soma da linha 4')\n",
    "d[4,:].sum()"
   ]
  },
  {
   "cell_type": "code",
   "execution_count": 71,
   "id": "c45fc699-fd7e-44dd-bc3a-cffbf49e0073",
   "metadata": {},
   "outputs": [
    {
     "name": "stdout",
     "output_type": "stream",
     "text": [
      "Soma da coluna 2\n"
     ]
    },
    {
     "data": {
      "text/plain": [
       "60"
      ]
     },
     "execution_count": 71,
     "metadata": {},
     "output_type": "execute_result"
    }
   ],
   "source": [
    "print('Soma da coluna 2')\n",
    "d[:,2].sum()"
   ]
  },
  {
   "cell_type": "code",
   "execution_count": 77,
   "id": "d835680c-0e38-431c-871b-d69aad243720",
   "metadata": {},
   "outputs": [
    {
     "name": "stdout",
     "output_type": "stream",
     "text": [
      "Somar tudo menos a diagonal principal\n"
     ]
    },
    {
     "data": {
      "text/plain": [
       "240"
      ]
     },
     "execution_count": 77,
     "metadata": {},
     "output_type": "execute_result"
    }
   ],
   "source": [
    "print('Somar tudo menos a diagonal principal')\n",
    "d[:,:].sum() - np.diag(d,0).sum()"
   ]
  },
  {
   "cell_type": "code",
   "execution_count": null,
   "id": "51b0c3a3-979d-4a0f-ba62-9ac91e715908",
   "metadata": {},
   "outputs": [],
   "source": []
  }
 ],
 "metadata": {
  "kernelspec": {
   "display_name": "Python 3 (ipykernel)",
   "language": "python",
   "name": "python3"
  },
  "language_info": {
   "codemirror_mode": {
    "name": "ipython",
    "version": 3
   },
   "file_extension": ".py",
   "mimetype": "text/x-python",
   "name": "python",
   "nbconvert_exporter": "python",
   "pygments_lexer": "ipython3",
   "version": "3.9.5"
  }
 },
 "nbformat": 4,
 "nbformat_minor": 5
}
